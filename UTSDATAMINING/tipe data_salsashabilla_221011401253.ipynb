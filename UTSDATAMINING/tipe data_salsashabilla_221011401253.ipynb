{
 "cells": [
  {
   "cell_type": "code",
   "execution_count": 8,
   "id": "58de9695-4abe-4297-b725-197df87545fe",
   "metadata": {},
   "outputs": [],
   "source": [
    "company_name_list = [{'name': 'Company 1'},\n",
    "          {'name': 'Company 2'},\n",
    "          {'name': 'Company 3'}]\n",
    "\n",
    "employee_name_list = [{'name': 'John Doe'},\n",
    "          {'name': 'Tom Smith'},\n",
    "          {'name': 'Andrew Sebastian'}]\n",
    "\n",
    "company_detail_list = {\n",
    "      'Company 1': {\n",
    "          'name': 'Company 1',\n",
    "          'domain': 'Retail',\n",
    "          'clients': [\n",
    "              {\n",
    "                  'name': 'acme.inc',\n",
    "                  'country': 'united states'\n",
    "              },\n",
    "              {\n",
    "                  'name': 'Wayne.co',\n",
    "                  'country': 'united states'\n",
    "              }\n",
    "          ]\n",
    "      },\n",
    "      'Company 2': {\n",
    "          'name': 'Company 2',\n",
    "          'domain': 'Construction',\n",
    "          'clients': [\n",
    "              {\n",
    "                  'name': 'Tesla',\n",
    "                  'country': 'united states'\n",
    "              },\n",
    "              {\n",
    "                  'name': 'Japan Airlines',\n",
    "                  'country': 'japan'\n",
    "              },\n",
    "              {\n",
    "                  'name': 'Indofood',\n",
    "                  'country': 'indonesia'\n",
    "              }\n",
    "          ]\n",
    "      },\n",
    "      'Company 3': {\n",
    "          'name': 'Company 3',\n",
    "          'domain': 'Healthcare',\n",
    "          'clients': [\n",
    "              {\n",
    "                  'name': 'Petronas',\n",
    "                  'country': 'malaysia'\n",
    "              },\n",
    "              {\n",
    "                  'name': 'VW Group',\n",
    "                  'country': 'germany'\n",
    "              },\n",
    "              {\n",
    "                  'name': 'IBM',\n",
    "                  'country': 'united states'\n",
    "              },\n",
    "              {\n",
    "                  'name': 'Mitsubishi',\n",
    "                  'country': 'japan'\n",
    "              }\n",
    "          ]\n",
    "      }\n",
    "  }\n",
    "\n",
    "employee_detail_list = {\n",
    "      'John Doe': {\n",
    "          'name': 'EMP-0001',\n",
    "          'first_name': 'John',\n",
    "          'last_name': 'Doe',\n",
    "          'full_name': 'John Doe',\n",
    "          'company': 'Company 1'\n",
    "      },\n",
    "      'Tom Smith': {\n",
    "          'name': 'EMP-0002',\n",
    "          'first_name': 'Tom',\n",
    "          'last_name': 'Smith',\n",
    "          'full_name': 'Tom Smith',\n",
    "          'company': 'Company 2'\n",
    "      },\n",
    "      'Andrew Sebastian': {\n",
    "          'name': 'EMP-0003',\n",
    "          'first_name': 'Andrew',\n",
    "          'last_name': 'Sebastian',\n",
    "          'full_name': 'Andrew Sebastian',\n",
    "          'company': 'Company 2'\n",
    "      },\n",
    "  }"
   ]
  },
  {
   "cell_type": "code",
   "execution_count": 11,
   "id": "e31282df-1ca6-4458-a294-ec9882b83587",
   "metadata": {},
   "outputs": [
    {
     "name": "stdout",
     "output_type": "stream",
     "text": [
      "[{'name': 'Company 1', 'domain': 'Retail', 'clients': [{'name': 'acme.inc', 'country': 'united states'}, {'name': 'Wayne.co', 'country': 'united states'}]}, {'name': 'Company 3', 'domain': 'Healthcare', 'clients': [{'name': 'Petronas', 'country': 'malaysia'}, {'name': 'VW Group', 'country': 'germany'}, {'name': 'IBM', 'country': 'united states'}, {'name': 'Mitsubishi', 'country': 'japan'}]}, {'name': 'Company 2', 'domain': 'Construction', 'clients': [{'name': 'Tesla', 'country': 'united states'}, {'name': 'Japan Airlines', 'country': 'japan'}, {'name': 'Indofood', 'country': 'indonesia'}]}]\n"
     ]
    }
   ],
   "source": [
    "def sort_company():\n",
    "    sorted_companies = sorted(company_detail_list.values(), key=lambda x: x['domain'], reverse=True)\n",
    "    return sorted_companies\n",
    "\n",
    "# Test the function\n",
    "sorted_companies = sort_company()\n",
    "print(sorted_companies)\n"
   ]
  },
  {
   "cell_type": "code",
   "execution_count": 3,
   "id": "847e4c66-7006-47b6-b05d-aac247b072f8",
   "metadata": {},
   "outputs": [
    {
     "name": "stdout",
     "output_type": "stream",
     "text": [
      "[{'name': 'Company 1', 'domain': 'Retail'}, {'name': 'Company 3', 'domain': 'Healthcare'}, {'name': 'Company 2', 'domain': 'Construction'}]\n"
     ]
    }
   ],
   "source": [
    "company_detail_list = {\n",
    "    'Company 1': {\n",
    "        'name': 'Company 1',\n",
    "        'domain': 'Retail',\n",
    "        'clients': [\n",
    "            {\n",
    "                'name': 'acme.inc',\n",
    "                'country': 'united states'\n",
    "            },\n",
    "            {\n",
    "                'name': 'Wayne.co',\n",
    "                'country': 'united states'\n",
    "            }\n",
    "        ]\n",
    "    },\n",
    "    'Company 2': {\n",
    "        'name': 'Company 2',\n",
    "        'domain': 'Construction',\n",
    "        'clients': [\n",
    "            {\n",
    "                'name': 'Tesla',\n",
    "                'country': 'united states'\n",
    "            },\n",
    "            {\n",
    "                'name': 'Japan Airlines',\n",
    "                'country': 'japan'\n",
    "            },\n",
    "            {\n",
    "                'name': 'Indofood',\n",
    "                'country': 'indonesia'\n",
    "            }\n",
    "        ]\n",
    "    },\n",
    "    'Company 3': {\n",
    "        'name': 'Company 3',\n",
    "        'domain': 'Healthcare',\n",
    "        'clients': [\n",
    "            {\n",
    "                'name': 'Petronas',\n",
    "                'country': 'malaysia'\n",
    "            },\n",
    "            {\n",
    "                'name': 'VW Group',\n",
    "                'country': 'germany'\n",
    "            },\n",
    "            {\n",
    "                'name': 'IBM',\n",
    "                'country': 'united states'\n",
    "            },\n",
    "            {\n",
    "                'name': 'Mitsubishi',\n",
    "                'country': 'japan'\n",
    "            }\n",
    "        ]\n",
    "    }\n",
    "}\n",
    "\n",
    "# Get the list of all Companies and sort by Company Domain in reverse order\n",
    "sorted_companies = sorted(company_detail_list.values(), key=lambda x: x['domain'], reverse=True)\n",
    "\n",
    "# Selecting only 'name' and 'domain' keys for each company\n",
    "result = [{'name': company['name'], 'domain': company['domain']} for company in sorted_companies]\n",
    "\n",
    "print(result)\n"
   ]
  },
  {
   "cell_type": "code",
   "execution_count": 9,
   "id": "d6c1caea-cb60-4420-9411-523175ec143a",
   "metadata": {},
   "outputs": [
    {
     "name": "stdout",
     "output_type": "stream",
     "text": [
      "Company 1: Retail, relation: 2 clients\n",
      "Company 2: Construction, relation: 3 clients\n",
      "Company 3: Healthcare, relation: 4 clients\n"
     ]
    }
   ],
   "source": [
    "# Menggunakan comprehension loop untuk mencetak semua nilai domain di setiap perusahaan\n",
    "for company_info in company_name_list:\n",
    "    company_name = company_info['name']\n",
    "    company_detail = company_detail_list[company_name]\n",
    "    domain = company_detail['domain']\n",
    "    num_clients = len(company_detail['clients'])\n",
    "    print(f\"{company_name}: {domain}, relation: {num_clients} clients\")\n"
   ]
  },
  {
   "cell_type": "code",
   "execution_count": 12,
   "id": "136befc5-4181-475c-9c71-6d8ccd003d04",
   "metadata": {},
   "outputs": [
    {
     "name": "stdout",
     "output_type": "stream",
     "text": [
      "[{'full_name': 'John Doe', 'company': 'Company 1', 'domain': 'Retail'}, {'full_name': 'Tom Smith', 'company': 'Company 2', 'domain': 'Construction'}, {'full_name': 'Andrew Sebastian', 'company': 'Company 2', 'domain': 'Construction'}]\n"
     ]
    }
   ],
   "source": [
    "def get_employee_domain():\n",
    "    employee_domains = []\n",
    "    \n",
    "    for employee_name, employee_info in employee_detail_list.items():\n",
    "        company_name = employee_info['company']\n",
    "        company_info = company_detail_list[company_name]\n",
    "        employee_domain = {\n",
    "            'full_name': employee_info['full_name'],\n",
    "            'company': company_name,\n",
    "            'domain': company_info['domain']\n",
    "        }\n",
    "        employee_domains.append(employee_domain)\n",
    "    \n",
    "    return employee_domains\n",
    "\n",
    "# Test the function\n",
    "result = get_employee_domain()\n",
    "print(result)\n"
   ]
  },
  {
   "cell_type": "code",
   "execution_count": 13,
   "id": "11ab6b82-1038-40bb-a139-ed63bc63ce9b",
   "metadata": {},
   "outputs": [
    {
     "name": "stdout",
     "output_type": "stream",
     "text": [
      "[{'company': 'Company 1', 'employees': ['John Doe']}, {'company': 'Company 2', 'employees': ['Tom Smith', 'Andrew Sebastian']}, {'company': 'Company 3', 'employees': []}]\n"
     ]
    }
   ],
   "source": [
    "\n",
    "\n",
    "def get_company_employee_list(company_name_list, employee_name_list, company_detail_list, employee_detail_list):\n",
    "    company_employee_list = []\n",
    "\n",
    "    # Iterate through each company\n",
    "    for company in company_name_list:\n",
    "        company_name = company['name']\n",
    "        employees = []\n",
    "\n",
    "        # Iterate through each employee\n",
    "        for employee in employee_name_list:\n",
    "            employee_name = employee['name']\n",
    "\n",
    "            # Check if the employee works for the current company\n",
    "            if employee_name in employee_detail_list:\n",
    "                if employee_detail_list[employee_name]['company'] == company_name:\n",
    "                    employees.append(employee_name)\n",
    "\n",
    "        # Append the company and its employees to the list\n",
    "        company_employee_list.append({\n",
    "            'company': company_name,\n",
    "            'employees': employees\n",
    "        })\n",
    "\n",
    "    return company_employee_list\n",
    "\n",
    "# Example usage\n",
    "company_employee_list = get_company_employee_list(company_name_list, employee_name_list, company_detail_list, employee_detail_list)\n",
    "print(company_employee_list)\n"
   ]
  },
  {
   "cell_type": "code",
   "execution_count": null,
   "id": "c59bd6e3-e7c4-4250-84f7-8b0131df1052",
   "metadata": {},
   "outputs": [],
   "source": []
  }
 ],
 "metadata": {
  "kernelspec": {
   "display_name": "Python 3 (ipykernel)",
   "language": "python",
   "name": "python3"
  },
  "language_info": {
   "codemirror_mode": {
    "name": "ipython",
    "version": 3
   },
   "file_extension": ".py",
   "mimetype": "text/x-python",
   "name": "python",
   "nbconvert_exporter": "python",
   "pygments_lexer": "ipython3",
   "version": "3.11.7"
  }
 },
 "nbformat": 4,
 "nbformat_minor": 5
}
