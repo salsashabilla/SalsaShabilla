{
 "cells": [
  {
   "cell_type": "code",
   "execution_count": 16,
   "id": "278d2cb4-df78-4e26-b5cd-7aa0d4685ddf",
   "metadata": {},
   "outputs": [],
   "source": [
    "# Import library\n",
    "import pandas as pd\n",
    "import numpy as np\n",
    "\n",
    "from sklearn.preprocessing import LabelEncoder, OneHotEncoder, StandardScaler\n",
    "from sklearn.impute import SimpleImputer\n",
    "from sklearn.compose import ColumnTransformer"
   ]
  },
  {
   "cell_type": "code",
   "execution_count": 17,
   "id": "c9959610-ec7d-4c2f-adc8-9129521d02a1",
   "metadata": {},
   "outputs": [],
   "source": [
    "data_startup = pd.read_csv('50_Startups.csv')"
   ]
  },
  {
   "cell_type": "code",
   "execution_count": 58,
   "id": "1e604537-faf5-4050-a951-16ac4ad02cf0",
   "metadata": {},
   "outputs": [
    {
     "data": {
      "text/html": [
       "<div>\n",
       "<style scoped>\n",
       "    .dataframe tbody tr th:only-of-type {\n",
       "        vertical-align: middle;\n",
       "    }\n",
       "\n",
       "    .dataframe tbody tr th {\n",
       "        vertical-align: top;\n",
       "    }\n",
       "\n",
       "    .dataframe thead th {\n",
       "        text-align: right;\n",
       "    }\n",
       "</style>\n",
       "<table border=\"1\" class=\"dataframe\">\n",
       "  <thead>\n",
       "    <tr style=\"text-align: right;\">\n",
       "      <th></th>\n",
       "      <th>R&amp;D Spend</th>\n",
       "      <th>Administration</th>\n",
       "      <th>Marketing Spend</th>\n",
       "      <th>State</th>\n",
       "      <th>Profit</th>\n",
       "    </tr>\n",
       "  </thead>\n",
       "  <tbody>\n",
       "    <tr>\n",
       "      <th>44</th>\n",
       "      <td>22177.74</td>\n",
       "      <td>154806.14</td>\n",
       "      <td>28334.72</td>\n",
       "      <td>California</td>\n",
       "      <td>65200.33</td>\n",
       "    </tr>\n",
       "    <tr>\n",
       "      <th>11</th>\n",
       "      <td>100671.96</td>\n",
       "      <td>91790.61</td>\n",
       "      <td>249744.55</td>\n",
       "      <td>California</td>\n",
       "      <td>144259.40</td>\n",
       "    </tr>\n",
       "    <tr>\n",
       "      <th>14</th>\n",
       "      <td>119943.24</td>\n",
       "      <td>156547.42</td>\n",
       "      <td>256512.92</td>\n",
       "      <td>Florida</td>\n",
       "      <td>132602.65</td>\n",
       "    </tr>\n",
       "    <tr>\n",
       "      <th>49</th>\n",
       "      <td>NaN</td>\n",
       "      <td>116983.80</td>\n",
       "      <td>45173.06</td>\n",
       "      <td>California</td>\n",
       "      <td>14681.40</td>\n",
       "    </tr>\n",
       "    <tr>\n",
       "      <th>40</th>\n",
       "      <td>28754.33</td>\n",
       "      <td>118546.05</td>\n",
       "      <td>172795.67</td>\n",
       "      <td>California</td>\n",
       "      <td>78239.91</td>\n",
       "    </tr>\n",
       "    <tr>\n",
       "      <th>39</th>\n",
       "      <td>38558.51</td>\n",
       "      <td>82982.09</td>\n",
       "      <td>174999.30</td>\n",
       "      <td>California</td>\n",
       "      <td>81005.76</td>\n",
       "    </tr>\n",
       "    <tr>\n",
       "      <th>29</th>\n",
       "      <td>65605.48</td>\n",
       "      <td>153032.06</td>\n",
       "      <td>107138.38</td>\n",
       "      <td>New York</td>\n",
       "      <td>101004.64</td>\n",
       "    </tr>\n",
       "  </tbody>\n",
       "</table>\n",
       "</div>"
      ],
      "text/plain": [
       "    R&D Spend  Administration  Marketing Spend       State     Profit\n",
       "44   22177.74       154806.14         28334.72  California   65200.33\n",
       "11  100671.96        91790.61        249744.55  California  144259.40\n",
       "14  119943.24       156547.42        256512.92     Florida  132602.65\n",
       "49        NaN       116983.80         45173.06  California   14681.40\n",
       "40   28754.33       118546.05        172795.67  California   78239.91\n",
       "39   38558.51        82982.09        174999.30  California   81005.76\n",
       "29   65605.48       153032.06        107138.38    New York  101004.64"
      ]
     },
     "execution_count": 58,
     "metadata": {},
     "output_type": "execute_result"
    }
   ],
   "source": [
    "data_startup.sample(7)"
   ]
  },
  {
   "cell_type": "code",
   "execution_count": 70,
   "id": "d3dc243b-f56a-41e6-9a73-4f0d837f5302",
   "metadata": {},
   "outputs": [
    {
     "data": {
      "text/plain": [
       "array([[114523.61, 122616.84, 261776.23, 'New York', 129917.04],\n",
       "       [28754.33, 118546.05, 172795.67, 'California', 78239.91],\n",
       "       [46426.07, 157693.92, 210797.67, 'California', 96712.8],\n",
       "       [119943.24, 156547.42, 256512.92, 'Florida', 132602.65],\n",
       "       [120542.52, 148718.95, 311613.29, 'New York', 152211.77],\n",
       "       [130298.13, nan, 323876.68, 'Florida', 155752.6],\n",
       "       [nan, 110594.11, 229160.95, 'Florida', 146121.95]], dtype=object)"
      ]
     },
     "execution_count": 70,
     "metadata": {},
     "output_type": "execute_result"
    }
   ],
   "source": [
    "X = data_startup.sample(7).values\n",
    "X "
   ]
  },
  {
   "cell_type": "code",
   "execution_count": null,
   "id": "f53b7756-80cb-4658-833c-5e1dc84a633d",
   "metadata": {},
   "outputs": [],
   "source": [
    "imputer = SimpleImputer(missing_values=np.nan, strategy='mean')\n",
    "imputer.fit(X[:, 1:])\n",
    "X[:, 1:] = imputer.transform(X[:, 1:])"
   ]
  },
  {
   "cell_type": "code",
   "execution_count": 71,
   "id": "945a53b8-7c30-4fa4-8d72-fee503c42488",
   "metadata": {},
   "outputs": [
    {
     "data": {
      "text/plain": [
       "array([[114523.61, 122616.84, 261776.23, 'New York', 129917.04],\n",
       "       [28754.33, 118546.05, 172795.67, 'California', 78239.91],\n",
       "       [46426.07, 157693.92, 210797.67, 'California', 96712.8],\n",
       "       [119943.24, 156547.42, 256512.92, 'Florida', 132602.65],\n",
       "       [120542.52, 148718.95, 311613.29, 'New York', 152211.77],\n",
       "       [130298.13, nan, 323876.68, 'Florida', 155752.6],\n",
       "       [nan, 110594.11, 229160.95, 'Florida', 146121.95]], dtype=object)"
      ]
     },
     "execution_count": 71,
     "metadata": {},
     "output_type": "execute_result"
    }
   ],
   "source": [
    "X"
   ]
  },
  {
   "cell_type": "code",
   "execution_count": null,
   "id": "4bb8aed1-956f-4e53-833e-fede3f0f7398",
   "metadata": {},
   "outputs": [],
   "source": []
  },
  {
   "cell_type": "code",
   "execution_count": 72,
   "id": "454bae0b-6f2a-44ee-a2c2-a5d6f7b39618",
   "metadata": {},
   "outputs": [
    {
     "data": {
      "text/plain": [
       "array([[114523.61, 122616.84, 261776.23, 2, 129917.04],\n",
       "       [28754.33, 118546.05, 172795.67, 0, 78239.91],\n",
       "       [46426.07, 157693.92, 210797.67, 0, 96712.8],\n",
       "       [119943.24, 156547.42, 256512.92, 1, 132602.65],\n",
       "       [120542.52, 148718.95, 311613.29, 2, 152211.77],\n",
       "       [130298.13, nan, 323876.68, 1, 155752.6],\n",
       "       [nan, 110594.11, 229160.95, 1, 146121.95]], dtype=object)"
      ]
     },
     "execution_count": 72,
     "metadata": {},
     "output_type": "execute_result"
    }
   ],
   "source": [
    "label_encoder = LabelEncoder()\n",
    "X[:, -2] =label_encoder.fit_transform(X[:,-2])\n",
    "X"
   ]
  },
  {
   "cell_type": "code",
   "execution_count": 73,
   "id": "ab36fb9e-acae-4f47-83ab-c6aed79a5c0d",
   "metadata": {},
   "outputs": [
    {
     "data": {
      "text/html": [
       "<div>\n",
       "<style scoped>\n",
       "    .dataframe tbody tr th:only-of-type {\n",
       "        vertical-align: middle;\n",
       "    }\n",
       "\n",
       "    .dataframe tbody tr th {\n",
       "        vertical-align: top;\n",
       "    }\n",
       "\n",
       "    .dataframe thead th {\n",
       "        text-align: right;\n",
       "    }\n",
       "</style>\n",
       "<table border=\"1\" class=\"dataframe\">\n",
       "  <thead>\n",
       "    <tr style=\"text-align: right;\">\n",
       "      <th></th>\n",
       "      <th>0</th>\n",
       "      <th>1</th>\n",
       "      <th>2</th>\n",
       "      <th>3</th>\n",
       "      <th>4</th>\n",
       "      <th>5</th>\n",
       "      <th>6</th>\n",
       "      <th>7</th>\n",
       "      <th>8</th>\n",
       "      <th>9</th>\n",
       "      <th>10</th>\n",
       "    </tr>\n",
       "  </thead>\n",
       "  <tbody>\n",
       "    <tr>\n",
       "      <th>0</th>\n",
       "      <td>0.0</td>\n",
       "      <td>0.0</td>\n",
       "      <td>1.0</td>\n",
       "      <td>0.0</td>\n",
       "      <td>0.0</td>\n",
       "      <td>0.0</td>\n",
       "      <td>0.0</td>\n",
       "      <td>122616.84</td>\n",
       "      <td>261776.23</td>\n",
       "      <td>2</td>\n",
       "      <td>129917.04</td>\n",
       "    </tr>\n",
       "    <tr>\n",
       "      <th>1</th>\n",
       "      <td>1.0</td>\n",
       "      <td>0.0</td>\n",
       "      <td>0.0</td>\n",
       "      <td>0.0</td>\n",
       "      <td>0.0</td>\n",
       "      <td>0.0</td>\n",
       "      <td>0.0</td>\n",
       "      <td>118546.05</td>\n",
       "      <td>172795.67</td>\n",
       "      <td>0</td>\n",
       "      <td>78239.91</td>\n",
       "    </tr>\n",
       "    <tr>\n",
       "      <th>2</th>\n",
       "      <td>0.0</td>\n",
       "      <td>1.0</td>\n",
       "      <td>0.0</td>\n",
       "      <td>0.0</td>\n",
       "      <td>0.0</td>\n",
       "      <td>0.0</td>\n",
       "      <td>0.0</td>\n",
       "      <td>157693.92</td>\n",
       "      <td>210797.67</td>\n",
       "      <td>0</td>\n",
       "      <td>96712.8</td>\n",
       "    </tr>\n",
       "    <tr>\n",
       "      <th>3</th>\n",
       "      <td>0.0</td>\n",
       "      <td>0.0</td>\n",
       "      <td>0.0</td>\n",
       "      <td>1.0</td>\n",
       "      <td>0.0</td>\n",
       "      <td>0.0</td>\n",
       "      <td>0.0</td>\n",
       "      <td>156547.42</td>\n",
       "      <td>256512.92</td>\n",
       "      <td>1</td>\n",
       "      <td>132602.65</td>\n",
       "    </tr>\n",
       "    <tr>\n",
       "      <th>4</th>\n",
       "      <td>0.0</td>\n",
       "      <td>0.0</td>\n",
       "      <td>0.0</td>\n",
       "      <td>0.0</td>\n",
       "      <td>1.0</td>\n",
       "      <td>0.0</td>\n",
       "      <td>0.0</td>\n",
       "      <td>148718.95</td>\n",
       "      <td>311613.29</td>\n",
       "      <td>2</td>\n",
       "      <td>152211.77</td>\n",
       "    </tr>\n",
       "    <tr>\n",
       "      <th>5</th>\n",
       "      <td>0.0</td>\n",
       "      <td>0.0</td>\n",
       "      <td>0.0</td>\n",
       "      <td>0.0</td>\n",
       "      <td>0.0</td>\n",
       "      <td>1.0</td>\n",
       "      <td>0.0</td>\n",
       "      <td>NaN</td>\n",
       "      <td>323876.68</td>\n",
       "      <td>1</td>\n",
       "      <td>155752.6</td>\n",
       "    </tr>\n",
       "    <tr>\n",
       "      <th>6</th>\n",
       "      <td>0.0</td>\n",
       "      <td>0.0</td>\n",
       "      <td>0.0</td>\n",
       "      <td>0.0</td>\n",
       "      <td>0.0</td>\n",
       "      <td>0.0</td>\n",
       "      <td>1.0</td>\n",
       "      <td>110594.11</td>\n",
       "      <td>229160.95</td>\n",
       "      <td>1</td>\n",
       "      <td>146121.95</td>\n",
       "    </tr>\n",
       "  </tbody>\n",
       "</table>\n",
       "</div>"
      ],
      "text/plain": [
       "    0    1    2    3    4    5    6          7          8  9          10\n",
       "0  0.0  0.0  1.0  0.0  0.0  0.0  0.0  122616.84  261776.23  2  129917.04\n",
       "1  1.0  0.0  0.0  0.0  0.0  0.0  0.0  118546.05  172795.67  0   78239.91\n",
       "2  0.0  1.0  0.0  0.0  0.0  0.0  0.0  157693.92  210797.67  0    96712.8\n",
       "3  0.0  0.0  0.0  1.0  0.0  0.0  0.0  156547.42  256512.92  1  132602.65\n",
       "4  0.0  0.0  0.0  0.0  1.0  0.0  0.0  148718.95  311613.29  2  152211.77\n",
       "5  0.0  0.0  0.0  0.0  0.0  1.0  0.0        NaN  323876.68  1   155752.6\n",
       "6  0.0  0.0  0.0  0.0  0.0  0.0  1.0  110594.11  229160.95  1  146121.95"
      ]
     },
     "execution_count": 73,
     "metadata": {},
     "output_type": "execute_result"
    }
   ],
   "source": [
    "one_hot_encoder = OneHotEncoder(categories=X[0])\n",
    "ct = ColumnTransformer([(\"Name_Of_Your_Step\", OneHotEncoder(),[0])], remainder=\"passthrough\")\n",
    "X = ct.fit_transform(X)\n",
    "# X = one_hot_encoder.fit_transform(X).toarray()\n",
    "df = pd.DataFrame(X)\n",
    "df"
   ]
  },
  {
   "cell_type": "code",
   "execution_count": 78,
   "id": "915e1beb-88af-473a-a248-2e3e8c33e240",
   "metadata": {},
   "outputs": [
    {
     "data": {
      "text/plain": [
       "array([[          0,           0,           2,           0,           0,\n",
       "                  0,           0,           0,           0,           1,\n",
       "                  0],\n",
       "       [          2,           0,           0,           0,           0,\n",
       "                  0,           0,           0,          -1,          -1,\n",
       "                 -1],\n",
       "       [          0,           2,           0,           0,           0,\n",
       "                  0,           0,           1,           0,          -1,\n",
       "                 -1],\n",
       "       [          0,           0,           0,           2,           0,\n",
       "                  0,           0,           1,           0,           0,\n",
       "                  0],\n",
       "       [          0,           0,           0,           0,           2,\n",
       "                  0,           0,           0,           1,           1,\n",
       "                  0],\n",
       "       [          0,           0,           0,           0,           0,\n",
       "                  2,           0, -2147483648,           1,           0,\n",
       "                  1],\n",
       "       [          0,           0,           0,           0,           0,\n",
       "                  0,           2,          -1,           0,           0,\n",
       "                  0]])"
      ]
     },
     "execution_count": 78,
     "metadata": {},
     "output_type": "execute_result"
    }
   ],
   "source": [
    "X =X.astype(int)\n",
    "X"
   ]
  },
  {
   "cell_type": "code",
   "execution_count": 79,
   "id": "75dcfd06-a6ae-4152-bf33-ff884357b2c3",
   "metadata": {},
   "outputs": [
    {
     "data": {
      "text/plain": [
       "array([[-0.40824829, -0.40824829,  2.44948974, -0.40824829, -0.40824829,\n",
       "        -0.40824829, -0.40824829,  0.40824829, -0.2236068 ,  1.32287566,\n",
       "         0.2236068 ],\n",
       "       [ 2.44948974, -0.40824829, -0.40824829, -0.40824829, -0.40824829,\n",
       "        -0.40824829, -0.40824829,  0.40824829, -1.78885438, -1.32287566,\n",
       "        -1.34164079],\n",
       "       [-0.40824829,  2.44948974, -0.40824829, -0.40824829, -0.40824829,\n",
       "        -0.40824829, -0.40824829,  0.40824829, -0.2236068 , -1.32287566,\n",
       "        -1.34164079],\n",
       "       [-0.40824829, -0.40824829, -0.40824829,  2.44948974, -0.40824829,\n",
       "        -0.40824829, -0.40824829,  0.40824829, -0.2236068 ,  0.        ,\n",
       "         0.2236068 ],\n",
       "       [-0.40824829, -0.40824829, -0.40824829, -0.40824829,  2.44948974,\n",
       "        -0.40824829, -0.40824829,  0.40824829,  1.34164079,  1.32287566,\n",
       "         0.2236068 ],\n",
       "       [-0.40824829, -0.40824829, -0.40824829, -0.40824829, -0.40824829,\n",
       "         2.44948974, -0.40824829, -2.44948974,  1.34164079,  0.        ,\n",
       "         1.78885438],\n",
       "       [-0.40824829, -0.40824829, -0.40824829, -0.40824829, -0.40824829,\n",
       "        -0.40824829,  2.44948974,  0.40824829, -0.2236068 ,  0.        ,\n",
       "         0.2236068 ]])"
      ]
     },
     "execution_count": 79,
     "metadata": {},
     "output_type": "execute_result"
    }
   ],
   "source": [
    "sc = StandardScaler()\n",
    "X = sc.fit_transform(X)\n",
    "X"
   ]
  },
  {
   "cell_type": "code",
   "execution_count": null,
   "id": "d3341100-1c36-4471-9949-2fecd6666854",
   "metadata": {},
   "outputs": [],
   "source": []
  }
 ],
 "metadata": {
  "kernelspec": {
   "display_name": "Python 3 (ipykernel)",
   "language": "python",
   "name": "python3"
  },
  "language_info": {
   "codemirror_mode": {
    "name": "ipython",
    "version": 3
   },
   "file_extension": ".py",
   "mimetype": "text/x-python",
   "name": "python",
   "nbconvert_exporter": "python",
   "pygments_lexer": "ipython3",
   "version": "3.11.7"
  }
 },
 "nbformat": 4,
 "nbformat_minor": 5
}
